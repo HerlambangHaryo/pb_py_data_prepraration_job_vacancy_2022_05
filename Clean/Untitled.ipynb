{
 "cells": [
  {
   "cell_type": "code",
   "execution_count": 7,
   "id": "51887a9d",
   "metadata": {},
   "outputs": [],
   "source": [
    "# Connect DB\n",
    "\n",
    "import mysql.connector\n",
    "mydb = mysql.connector.connect(\n",
    "    host=\"localhost\",\n",
    "    user=\"root\",\n",
    "    password=\"\",\n",
    "    database=\"pr_scraping_job_vacancy_indonesia_2022_04\"\n",
    ")"
   ]
  },
  {
   "cell_type": "code",
   "execution_count": 8,
   "id": "e9f8b2d7",
   "metadata": {},
   "outputs": [
    {
     "name": "stdout",
     "output_type": "stream",
     "text": [
      "CEO\\u002FGM\\u002FDirektur\\u002FManajer Senior\n",
      "Lulusan baru\\u002FPengalaman kerja kurang dari 1 tahun\n",
      "Manajer\\u002FAsisten Manajer\n",
      "Non-Eksekutif\n",
      "Pegawai (non-manajemen & non-supervisor)\n",
      "Supervisor\\u002FKoordinator\n"
     ]
    }
   ],
   "source": [
    "# clean career_level\n",
    "\n",
    "select = ' career_level '\n",
    "fromdb = 'jobstreet_raws'\n",
    "where = '  '\n",
    "group = ' GROUP by' + select\n",
    "\n",
    "mycursor = mydb.cursor()\n",
    "mycursor.execute(\"SELECT \" + select + \" FROM `\" + fromdb + \"` \" + where + group  )\n",
    "myresult = mycursor.fetchall()\n",
    "\n",
    "counter = 1\n",
    "\n",
    "for x in myresult:  \n",
    "    words = x[0] \n",
    "    words_rep = words.replace(\"\\u002F\", \" / \")\n",
    "    print(words_rep)\n",
    "    \n",
    "#     CEO\\u002FGM\\u002FDirektur\\u002FManajer Senior\n",
    "#     Lulusan baru\\u002FPengalaman kerja kurang dari 1 tahun\n",
    "#     Manajer\\u002FAsisten Manajer\n",
    "#     Non-Eksekutif\n",
    "#     Pegawai (non-manajemen & non-supervisor)\n",
    "#     Supervisor\\u002FKoordinator\n",
    "\n",
    "#     query = \"UPDATE jobstreet_raws SET career_level = '\" + str(words_rep)+\"'   \" \n",
    "#     where = \"  where career_level LIKE '\" + words + \"'\"  \n",
    "#     print(query + where)\n",
    "#     mycursor.execute(query + where )\n",
    "#     mydb.commit()  "
   ]
  }
 ],
 "metadata": {
  "kernelspec": {
   "display_name": "Python 3 (ipykernel)",
   "language": "python",
   "name": "python3"
  },
  "language_info": {
   "codemirror_mode": {
    "name": "ipython",
    "version": 3
   },
   "file_extension": ".py",
   "mimetype": "text/x-python",
   "name": "python",
   "nbconvert_exporter": "python",
   "pygments_lexer": "ipython3",
   "version": "3.9.12"
  }
 },
 "nbformat": 4,
 "nbformat_minor": 5
}
