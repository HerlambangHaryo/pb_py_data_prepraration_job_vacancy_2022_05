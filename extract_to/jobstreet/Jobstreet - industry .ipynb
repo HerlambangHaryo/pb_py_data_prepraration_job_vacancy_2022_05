{
 "cells": [
  {
   "cell_type": "code",
   "execution_count": 3,
   "id": "5dcd1fa8",
   "metadata": {},
   "outputs": [
    {
     "name": "stdout",
     "output_type": "stream",
     "text": [
      "connect\n"
     ]
    }
   ],
   "source": [
    "# Connect DB\n",
    "\n",
    "import mysql.connector\n",
    "mydb = mysql.connector.connect(\n",
    "    host=\"localhost\",\n",
    "    user=\"root\",\n",
    "    password=\"\",\n",
    "    database=\"pr_scraping_job_vacancy_indonesia_2022_04\"\n",
    ")\n",
    "\n",
    "mycursor = mydb.cursor()\n",
    "\n",
    "print('connect')"
   ]
  },
  {
   "cell_type": "code",
   "execution_count": 4,
   "id": "69798cd2",
   "metadata": {},
   "outputs": [
    {
     "name": "stdout",
     "output_type": "stream",
     "text": [
      "Agrikultural / Perkebunan / Peternakan Unggas / Perikanan\n",
      "Akunting  /  Audit  /  Layanan Pajak\n",
      "Asuransi\n",
      "Automobil / Mesin Tambahan Automotif / Kendaraan\n",
      "Bahan Kimia / Pupuk / Pestisida\n",
      "BioTeknologi / Farmasi / Riset klinik\n",
      "Call Center / IT-Enabled Services / BPO\n",
      "Elektrikal & Elektronik\n",
      "Hiburan / Media\n",
      "Hotel / Pariwisata\n",
      "Hukum / Legal\n",
      "Ilmu Pengetahuan & Teknologi\n",
      "Industri Berat / Mesin / Peralatan\n",
      "Jual Beli Saham / Sekuritas\n",
      "Jurnalisme\n",
      "Kayu / Fiber / Kertas\n",
      "Keamanan / Penegak hukum\n",
      "Kelautan / Aquakultur\n",
      "Kesehatan / Medis\n",
      "Komputer / Teknik Informatika (Perangkat Keras)\n",
      "Komputer / Teknik Informatika (Perangkat Lunak)\n",
      "Konstruksi / Bangunan / Teknik\n",
      "Konsultasi (Bisnis & Manajemen)\n",
      "Konsultasi (IT, Ilmu Pengetahuan, Teknis & Teknikal)\n",
      "Lainnya\n",
      "Layanan Umum / Tenaga Penggerak\n",
      "Lingkungan / Kesehatan / Keamanan\n",
      "Luar Angkasa / Aviasi / Pesawat Terbang\n",
      "Makanan & Minuman / Katering / Restoran\n",
      "Manajemen / Konsulting HR\n",
      "Manufaktur / Produksi\n",
      "Minyak / Gas / Petroleum\n",
      "Olahraga\n",
      "Organisasi Nirlaba / Pelayanan Sosial / LSM\n",
      "Pakaian\n",
      "Pameran / Manajemen acara / PIKP\n",
      "Pelayanan Arsitek / Desain Interior\n",
      "Pelayanan Perbaikan & Pemeliharaan\n",
      "Pemerintahan / Pertahanan\n",
      "Pendidikan\n",
      "Perawatan / Kecantikan / Fitnes\n",
      "Perbankan / Pelayanan Keuangan\n",
      "Percetakan / Penerbitan\n",
      "Periklanan / Marketing / Promosi / Hubungan Masyarakat\n",
      "Permata / Perhiasan\n",
      "Pertambangan\n",
      "Polymer / Plastik / Karet / Ban\n",
      "Produk Konsumen / Barang konsumen yang bergerak cepat\n",
      "Properti / Real Estate\n",
      "R&D\n",
      "Retail / Merchandise\n",
      "Seni / Desain / Fashion\n",
      "Tekstil / Garment\n",
      "Telekomunikasi\n",
      "Tembakau\n",
      "Transportasi / Logistik\n",
      "Travel / Pariwisata\n",
      "Umum & Grosir\n"
     ]
    }
   ],
   "source": [
    "select = ' industry '\n",
    "fromdb = 'jobstreet_raws' \n",
    "where = ' '\n",
    "group = ' GROUP by' + select\n",
    " \n",
    "mycursor = mydb.cursor()\n",
    "mycursor.execute(\"SELECT \" + select + \" FROM `\" + fromdb + \"` \" + where + group  )\n",
    "myresult = mycursor.fetchall()\n",
    "\n",
    "for x in myresult:  \n",
    "    industry = x[0]   \n",
    "    print(industry)"
   ]
  }
 ],
 "metadata": {
  "kernelspec": {
   "display_name": "Python 3 (ipykernel)",
   "language": "python",
   "name": "python3"
  },
  "language_info": {
   "codemirror_mode": {
    "name": "ipython",
    "version": 3
   },
   "file_extension": ".py",
   "mimetype": "text/x-python",
   "name": "python",
   "nbconvert_exporter": "python",
   "pygments_lexer": "ipython3",
   "version": "3.9.12"
  }
 },
 "nbformat": 4,
 "nbformat_minor": 5
}
