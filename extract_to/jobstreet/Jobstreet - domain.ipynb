{
 "cells": [
  {
   "cell_type": "code",
   "execution_count": 1,
   "id": "88ed111c",
   "metadata": {},
   "outputs": [
    {
     "name": "stdout",
     "output_type": "stream",
     "text": [
      "connect\n"
     ]
    }
   ],
   "source": [
    "# Connect DB\n",
    "\n",
    "import mysql.connector\n",
    "mydb = mysql.connector.connect(\n",
    "    host=\"localhost\",\n",
    "    user=\"root\",\n",
    "    password=\"\",\n",
    "    database=\"pr_scraping_job_vacancy_indonesia_2022_04\"\n",
    ")\n",
    "\n",
    "mycursor = mydb.cursor()\n",
    "\n",
    "print('connect')"
   ]
  },
  {
   "cell_type": "code",
   "execution_count": 2,
   "id": "975c4a01",
   "metadata": {},
   "outputs": [
    {
     "name": "stdout",
     "output_type": "stream",
     "text": [
      "501 Akuntansi  /  Keuangan , 130 Audit & Pajak \n",
      "501 Akuntansi  /  Keuangan , 131 Akuntansi Umum  /  Pembiayaan \n",
      "501 Akuntansi  /  Keuangan , 132 Keuangan  /  Investasi Perusahaan  \n",
      "501 Akuntansi  /  Keuangan , 135 Perbankan  /  Jasa Finansial  \n",
      "502 Sumber Daya Manusia / Personalia , 133 Staf  /  Administrasi umum \n",
      "502 Sumber Daya Manusia / Personalia , 137 Sumber Daya Manusia  /  HR \n",
      "502 Sumber Daya Manusia / Personalia , 146 Sekretaris \n",
      "502 Sumber Daya Manusia / Personalia , 148 Top Management  /  Manajemen Tingkat Atas \n",
      "503 Penjualan  /  Pemasaran , 139 Pemasaran / Pengembangan Bisnis \n",
      "503 Penjualan  /  Pemasaran , 142 Penjualan - Korporasi \n",
      "503 Penjualan  /  Pemasaran , 142 Penjualan - Korporasi , 139 Pemasaran / Pengembangan Bisnis \n",
      "503 Penjualan  /  Pemasaran , 143 Penjualan - Teknik / Teknikal / IT \n",
      "503 Penjualan  /  Pemasaran , 144 Penjualan - Jasa Keuangan \n",
      "503 Penjualan  /  Pemasaran , 145 Penjualan Ritel \n",
      "503 Penjualan  /  Pemasaran , 145 Penjualan Ritel , 142 Penjualan - Korporasi \n",
      "503 Penjualan  /  Pemasaran , 149 Merchandising \n",
      "503 Penjualan  /  Pemasaran , 151 Telesales / Telemarketing \n",
      "503 Penjualan  /  Pemasaran , 202 E-commerce \n",
      "503 Penjualan  /  Pemasaran , 203 Digital Marketing \n",
      "504 Seni / Media / Komunikasi , 100 Periklanan \n",
      "504 Seni / Media / Komunikasi , 101 Seni  /  Desain Kreatif \n",
      "504 Seni / Media / Komunikasi , 106 Hiburan \n",
      "504 Seni / Media / Komunikasi , 141 Hubungan Masyarakat \n",
      "505 Pelayanan , 118 Perawatan Pribadi \n",
      "505 Pelayanan , 119 Angkatan Bersenjata \n",
      "505 Pelayanan , 120 Layanan Sosial / Konseling \n",
      "505 Pelayanan , 134 Layanan Pelanggan \n",
      "505 Pelayanan , 138 Pengacara  /  Asisten Legal \n",
      "505 Pelayanan , 147 Logistik / Rantai Pasokan \n",
      "505 Pelayanan , 152 Teknikal & Bantuan Pelanggan \n",
      "505 Pelayanan , 152 Teknikal & Bantuan Pelanggan , 508 Komputer / Teknologi Informasi , 193 IT-Admin Jaringan / Sistem / Database \n",
      "506 Hotel / Restoran , 107 Makanan / Minuman / Pelayanan Restoran \n",
      "506 Hotel / Restoran , 114 Hotel / Pariwisata \n",
      "507 Pendidikan / Pelatihan , 105 Pendidikan \n",
      "507 Pendidikan / Pelatihan , 121 Pelatihan & Pengembangan \n",
      "508 Komputer / Teknologi Informasi , 191 IT-Perangkat Lunak \n",
      "508 Komputer / Teknologi Informasi , 191 IT-Perangkat Lunak , 193 IT-Admin Jaringan / Sistem / Database \n",
      "508 Komputer / Teknologi Informasi , 192 IT-Perangkat Keras \n",
      "508 Komputer / Teknologi Informasi , 193 IT-Admin Jaringan / Sistem / Database \n",
      "509 Teknik , 185 Teknik Kimia \n",
      "509 Teknik , 186 Teknik Elektronika \n",
      "509 Teknik , 187 Teknik Elektro \n",
      "509 Teknik , 187 Teknik Elektro , 195 Mekanikal \n",
      "509 Teknik , 188 Teknik Lainnya \n",
      "509 Teknik , 189 Teknik Lingkungan \n",
      "509 Teknik , 190 Minyak / Gas \n",
      "509 Teknik , 195 Mekanikal \n",
      "509 Teknik , 200 Teknik Industri \n",
      "510 Manufaktur , 115 Pemeliharaan \n",
      "510 Manufaktur , 140 Pembelian / Manajemen Material \n",
      "510 Manufaktur , 194 Manufaktur \n",
      "510 Manufaktur , 196 Kontrol Proses \n",
      "510 Manufaktur , 197 Penjaminan Kualitas  /  QA \n",
      "511 Bangunan / Konstruksi , 150 Properti / Real Estate \n",
      "511 Bangunan / Konstruksi , 180 Arsitek / Desain Interior \n",
      "511 Bangunan / Konstruksi , 184 Teknik Sipil / Konstruksi Bangunan \n",
      "511 Bangunan / Konstruksi , 198 Survei Kuantitas \n",
      "512 Sains , 102 Pertanian \n",
      "512 Sains , 103 Aktuaria / Statistik \n",
      "512 Sains , 108 Teknologi Makanan / Ahli Gizi \n",
      "512 Sains , 109 Geologi / Geofisika \n",
      "512 Sains , 181 Penerbangan \n",
      "512 Sains , 182 Bioteknologi \n",
      "512 Sains , 183 Kimia \n",
      "512 Sains , 199 Sains & Teknologi \n",
      "512 Sains , 204 Biomedis \n",
      "513 Layanan Kesehatan , 111 Praktisi / Asisten Medis \n",
      "513 Layanan Kesehatan , 112 Farmasi \n",
      "513 Layanan Kesehatan , 113 Diagnosa / Lainnya \n",
      "514 Lainnya , 104 Jurnalis / Editor \n",
      "514 Lainnya , 110 Pekerjaan Umum \n",
      "514 Lainnya , 116 Lainnya / Kategori tidak tersedia \n",
      "514 Lainnya , 117 Penerbitan \n"
     ]
    }
   ],
   "source": [
    "select = ' domain '\n",
    "fromdb = 'jobstreet_raws' \n",
    "where = ' '\n",
    "group = ' GROUP by' + select\n",
    " \n",
    "mycursor = mydb.cursor()\n",
    "mycursor.execute(\"SELECT \" + select + \" FROM `\" + fromdb + \"` \" + where + group  )\n",
    "myresult = mycursor.fetchall()\n",
    "\n",
    "for x in myresult:  \n",
    "    industry = x[0]   \n",
    "    print(industry)"
   ]
  }
 ],
 "metadata": {
  "kernelspec": {
   "display_name": "Python 3 (ipykernel)",
   "language": "python",
   "name": "python3"
  },
  "language_info": {
   "codemirror_mode": {
    "name": "ipython",
    "version": 3
   },
   "file_extension": ".py",
   "mimetype": "text/x-python",
   "name": "python",
   "nbconvert_exporter": "python",
   "pygments_lexer": "ipython3",
   "version": "3.9.12"
  }
 },
 "nbformat": 4,
 "nbformat_minor": 5
}
