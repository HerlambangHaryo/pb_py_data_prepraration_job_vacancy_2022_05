{
 "cells": [
  {
   "cell_type": "code",
   "execution_count": 1,
   "id": "88ed111c",
   "metadata": {},
   "outputs": [
    {
     "name": "stdout",
     "output_type": "stream",
     "text": [
      "connect\n"
     ]
    }
   ],
   "source": [
    "# Connect DB\n",
    "\n",
    "import mysql.connector\n",
    "mydb = mysql.connector.connect(\n",
    "    host=\"localhost\",\n",
    "    user=\"root\",\n",
    "    password=\"\",\n",
    "    database=\"pr_scraping_job_vacancy_indonesia_2022_04\"\n",
    ")\n",
    "\n",
    "mycursor = mydb.cursor()\n",
    "\n",
    "print('connect')"
   ]
  },
  {
   "cell_type": "code",
   "execution_count": 2,
   "id": "975c4a01",
   "metadata": {},
   "outputs": [
    {
     "name": "stdout",
     "output_type": "stream",
     "text": [
      "CEO\\u002FGM\\u002FDirektur\\u002FManajer Senior\n",
      "Lulusan baru\\u002FPengalaman kerja kurang dari 1 tahun\n",
      "Manajer\\u002FAsisten Manajer\n",
      "Non-Eksekutif\n",
      "Pegawai (non-manajemen & non-supervisor)\n",
      "Supervisor\\u002FKoordinator\n"
     ]
    }
   ],
   "source": [
    "select = ' career_level '\n",
    "fromdb = 'jobstreet_raws' \n",
    "where = ' '\n",
    "group = ' GROUP by' + select\n",
    " \n",
    "mycursor = mydb.cursor()\n",
    "mycursor.execute(\"SELECT \" + select + \" FROM `\" + fromdb + \"` \" + where + group  )\n",
    "myresult = mycursor.fetchall()\n",
    "\n",
    "for x in myresult:  \n",
    "    industry = x[0]   \n",
    "    print(industry)"
   ]
  }
 ],
 "metadata": {
  "kernelspec": {
   "display_name": "Python 3 (ipykernel)",
   "language": "python",
   "name": "python3"
  },
  "language_info": {
   "codemirror_mode": {
    "name": "ipython",
    "version": 3
   },
   "file_extension": ".py",
   "mimetype": "text/x-python",
   "name": "python",
   "nbconvert_exporter": "python",
   "pygments_lexer": "ipython3",
   "version": "3.9.12"
  }
 },
 "nbformat": 4,
 "nbformat_minor": 5
}
