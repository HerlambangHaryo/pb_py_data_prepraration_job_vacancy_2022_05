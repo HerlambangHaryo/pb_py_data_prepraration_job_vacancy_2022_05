{
 "cells": [
  {
   "cell_type": "code",
   "execution_count": 22,
   "id": "88ed111c",
   "metadata": {},
   "outputs": [
    {
     "name": "stdout",
     "output_type": "stream",
     "text": [
      "connect\n"
     ]
    }
   ],
   "source": [
    "# Connect DB\n",
    "\n",
    "import mysql.connector\n",
    "mydb = mysql.connector.connect(\n",
    "    host=\"localhost\",\n",
    "    user=\"root\",\n",
    "    password=\"\",\n",
    "    database=\"pr_scraping_job_vacancy_indonesia_2022_04\"\n",
    ")\n",
    "\n",
    "mycursor = mydb.cursor()\n",
    "\n",
    "print('connect')"
   ]
  },
  {
   "cell_type": "code",
   "execution_count": 23,
   "id": "975c4a01",
   "metadata": {},
   "outputs": [
    {
     "ename": "SyntaxError",
     "evalue": "(unicode error) 'unicodeescape' codec can't decode bytes in position 3-8: truncated \\UXXXXXXXX escape (2841773592.py, line 15)",
     "output_type": "error",
     "traceback": [
      "\u001b[1;36m  Input \u001b[1;32mIn [23]\u001b[1;36m\u001b[0m\n\u001b[1;33m    sql = \"INSERT INTO job_vacancies (title, created_at) VALUES (REPLACE(\"+title+\", '\\U002F', '') , now())\"\u001b[0m\n\u001b[1;37m                                                                                                           ^\u001b[0m\n\u001b[1;31mSyntaxError\u001b[0m\u001b[1;31m:\u001b[0m (unicode error) 'unicodeescape' codec can't decode bytes in position 3-8: truncated \\UXXXXXXXX escape\n"
     ]
    }
   ],
   "source": [
    "select = ' id, title '\n",
    "fromdb = 'jobstreet_raws_rc' \n",
    "where = ' '\n",
    "group = ' ' \n",
    "orderby = ' order by id asc ' \n",
    " \n",
    "mycursor = mydb.cursor()\n",
    "mycursor.execute(\"SELECT \" + select + \" FROM `\" + fromdb + \"` \" + where + group + orderby  )\n",
    "myresult = mycursor.fetchall()\n",
    "\n",
    "for x in myresult:    \n",
    "    ids = str(x[0]) \n",
    "    title_rep = replace(x[1], r\"\", \"\\U002F\")\n",
    "    title = title_rep.strip().title()   \n",
    "    print(ids + \" \" + title_rep)\n",
    "#     sql = \"INSERT INTO job_vacancies (title, created_at) VALUES (REPLACE(\"+title+\", '\\U002F', '') , now())\"\n",
    "#     mycursor.execute(sql)\n",
    "#     mydb.commit()   "
   ]
  }
 ],
 "metadata": {
  "kernelspec": {
   "display_name": "Python 3 (ipykernel)",
   "language": "python",
   "name": "python3"
  },
  "language_info": {
   "codemirror_mode": {
    "name": "ipython",
    "version": 3
   },
   "file_extension": ".py",
   "mimetype": "text/x-python",
   "name": "python",
   "nbconvert_exporter": "python",
   "pygments_lexer": "ipython3",
   "version": "3.9.12"
  }
 },
 "nbformat": 4,
 "nbformat_minor": 5
}
