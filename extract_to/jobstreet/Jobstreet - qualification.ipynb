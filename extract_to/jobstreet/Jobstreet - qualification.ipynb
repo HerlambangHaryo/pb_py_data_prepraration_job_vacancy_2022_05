{
 "cells": [
  {
   "cell_type": "code",
   "execution_count": 1,
   "id": "88ed111c",
   "metadata": {},
   "outputs": [
    {
     "name": "stdout",
     "output_type": "stream",
     "text": [
      "connect\n"
     ]
    }
   ],
   "source": [
    "# Connect DB\n",
    "\n",
    "import mysql.connector\n",
    "mydb = mysql.connector.connect(\n",
    "    host=\"localhost\",\n",
    "    user=\"root\",\n",
    "    password=\"\",\n",
    "    database=\"pr_scraping_job_vacancy_indonesia_2022_04\"\n",
    ")\n",
    "\n",
    "mycursor = mydb.cursor()\n",
    "\n",
    "print('connect')"
   ]
  },
  {
   "cell_type": "code",
   "execution_count": 2,
   "id": "975c4a01",
   "metadata": {},
   "outputs": [
    {
     "name": "stdout",
     "output_type": "stream",
     "text": [
      "\n",
      "D3 (Diploma), D4 (Diploma)\n",
      "D3 (Diploma), D4 (Diploma), Sarjana (S1), Diploma Pascasarjana, Gelar Professional\n",
      "D3 (Diploma), D4 (Diploma), Sarjana (S1), Diploma Pascasarjana, Gelar Professional, Magister (S2)\n",
      "Diploma Pascasarjana, Gelar Professional, Magister (S2)\n",
      "Diploma Pascasarjana, Gelar Professional, Magister (S2), Doktor (S3)\n",
      "Doktor (S3)\n",
      "Sarjana (S1)\n",
      "Sarjana (S1), Diploma Pascasarjana, Gelar Professional\n",
      "Sarjana (S1), Diploma Pascasarjana, Gelar Professional, Magister (S2)\n",
      "Sarjana (S1), Diploma Pascasarjana, Gelar Professional, Magister (S2), Doktor (S3)\n",
      "Sarjana (S1), Doktor (S3)\n",
      "Sertifikat Professional, D3 (Diploma), D4 (Diploma)\n",
      "Sertifikat Professional, D3 (Diploma), D4 (Diploma), Diploma Pascasarjana, Gelar Professional, Magister (S2)\n",
      "Sertifikat Professional, D3 (Diploma), D4 (Diploma), Sarjana (S1)\n",
      "Sertifikat Professional, D3 (Diploma), D4 (Diploma), Sarjana (S1), Diploma Pascasarjana, Gelar Professional\n",
      "Sertifikat Professional, D3 (Diploma), D4 (Diploma), Sarjana (S1), Diploma Pascasarjana, Gelar Professional, Magister (S2)\n",
      "SMA, SMU\\u002FSMK\\u002FSTM\n",
      "SMA, SMU\\u002FSMK\\u002FSTM, Sarjana (S1)\n",
      "SMA, SMU\\u002FSMK\\u002FSTM, Sarjana (S1), Diploma Pascasarjana, Gelar Professional, Magister (S2)\n",
      "SMA, SMU\\u002FSMK\\u002FSTM, Sertifikat Professional\n",
      "SMA, SMU\\u002FSMK\\u002FSTM, Sertifikat Professional, D3 (Diploma), D4 (Diploma)\n",
      "SMA, SMU\\u002FSMK\\u002FSTM, Sertifikat Professional, D3 (Diploma), D4 (Diploma), Diploma Pascasarjana, Gelar Professional, Magister (S2)\n",
      "SMA, SMU\\u002FSMK\\u002FSTM, Sertifikat Professional, D3 (Diploma), D4 (Diploma), Sarjana (S1)\n",
      "SMU\\u002FSMK\\u002FSTM\n",
      "SMU\\u002FSMK\\u002FSTM, Sertifikat Professional, D3 (Diploma), D4 (Diploma)\n",
      "Tidak terspesifikasi\n"
     ]
    }
   ],
   "source": [
    "select = ' qualification '\n",
    "fromdb = 'jobstreet_raws' \n",
    "where = ' '\n",
    "group = ' GROUP by' + select\n",
    " \n",
    "mycursor = mydb.cursor()\n",
    "mycursor.execute(\"SELECT \" + select + \" FROM `\" + fromdb + \"` \" + where + group  )\n",
    "myresult = mycursor.fetchall()\n",
    "\n",
    "for x in myresult:  \n",
    "    industry = x[0]   \n",
    "    print(industry)"
   ]
  }
 ],
 "metadata": {
  "kernelspec": {
   "display_name": "Python 3 (ipykernel)",
   "language": "python",
   "name": "python3"
  },
  "language_info": {
   "codemirror_mode": {
    "name": "ipython",
    "version": 3
   },
   "file_extension": ".py",
   "mimetype": "text/x-python",
   "name": "python",
   "nbconvert_exporter": "python",
   "pygments_lexer": "ipython3",
   "version": "3.9.12"
  }
 },
 "nbformat": 4,
 "nbformat_minor": 5
}
