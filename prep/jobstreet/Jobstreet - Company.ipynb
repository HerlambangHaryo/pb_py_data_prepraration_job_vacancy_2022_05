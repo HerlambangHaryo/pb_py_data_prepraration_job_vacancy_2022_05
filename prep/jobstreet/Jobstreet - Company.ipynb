{
 "cells": [
  {
   "cell_type": "code",
   "execution_count": 2,
   "id": "d9fc0031",
   "metadata": {},
   "outputs": [
    {
     "name": "stdout",
     "output_type": "stream",
     "text": [
      "Connect\n"
     ]
    }
   ],
   "source": [
    "# Connect DB\n",
    "\n",
    "import mysql.connector\n",
    "mydb = mysql.connector.connect(\n",
    "    host=\"localhost\",\n",
    "    user=\"root\",\n",
    "    password=\"\",\n",
    "    database=\"pr_scraping_job_vacancy_indonesia_2022_04\"\n",
    ")\n",
    "\n",
    "print('Connect')"
   ]
  },
  {
   "cell_type": "code",
   "execution_count": 3,
   "id": "f28da997",
   "metadata": {},
   "outputs": [
    {
     "name": "stdout",
     "output_type": "stream",
     "text": [
      "10558\n",
      "done : 1 row(s)\n",
      "10559\n"
     ]
    }
   ],
   "source": [
    "# max id\n",
    "\n",
    "select = ' max(company_id) '\n",
    "fromdb = 'jobstreet_raws' \n",
    " \n",
    "mycursor = mydb.cursor()\n",
    "mycursor.execute(\"SELECT \" + select + \" FROM `\" + fromdb + \"` \"    )\n",
    "myresult = mycursor.fetchall()\n",
    "\n",
    "counter = 1\n",
    "\n",
    "for x in myresult:  \n",
    "    words = x[0]   \n",
    "    print(words)\n",
    "      \n",
    "    \n",
    "    \n",
    "counter = words + 1\n",
    "print('done : ' + str(len(myresult)) + ' row(s)')\n",
    "print(counter)"
   ]
  },
  {
   "cell_type": "code",
   "execution_count": 4,
   "id": "1f4c4f59",
   "metadata": {},
   "outputs": [
    {
     "name": "stdout",
     "output_type": "stream",
     "text": [
      " \n",
      "Macroad \\u002F PT Solusi Sinergi Digital, Tbk\n",
      "UPDATE jobstreet_raws SET company_id = '10559'     where company LIKE 'Macroad \\u002F PT Solusi Sinergi Digital, Tbk'  and city LIKE 'Jakarta Raya'\n",
      " \n",
      "PT Goldenindo Abra \\u002F Sunny Paint\n",
      "UPDATE jobstreet_raws SET company_id = '10560'     where company LIKE 'PT Goldenindo Abra \\u002F Sunny Paint'  and city LIKE 'Jakarta Raya'\n",
      " \n",
      "PT Square Gate One \\u002F ESPAY.ID\n",
      "UPDATE jobstreet_raws SET company_id = '10561'     where company LIKE 'PT Square Gate One \\u002F ESPAY.ID'  and city LIKE 'Jakarta Barat'\n",
      " \n",
      "PT Square Gate One \\u002F ESPAY.ID\n",
      "UPDATE jobstreet_raws SET company_id = '10562'     where company LIKE 'PT Square Gate One \\u002F ESPAY.ID'  and city LIKE 'Tangerang'\n",
      "done : 4 row(s)\n"
     ]
    }
   ],
   "source": [
    "# make Company _id\n",
    "\n",
    "select = ' company, city '\n",
    "fromdb = 'jobstreet_raws'\n",
    "where = ' where company_id is null '\n",
    "group = ' GROUP by' + select\n",
    " \n",
    "mycursor = mydb.cursor()\n",
    "mycursor.execute(\"SELECT \" + select + \" FROM `\" + fromdb + \"` \" + where + group  )\n",
    "myresult = mycursor.fetchall()\n",
    "\n",
    "for x in myresult:  \n",
    "    company = x[0]  \n",
    "    city = x[1]  \n",
    "    print(' ')\n",
    "    print(company)\n",
    "    \n",
    "    company_rep = company.replace(\"'\", \"\\\\'\")\n",
    "    city_rep = city.replace(\"'\", \"\\\\'\")\n",
    "    \n",
    "    query = \"UPDATE jobstreet_raws SET company_id = '\" + str(counter)+\"'   \" \n",
    "    where = \"  where company LIKE '\" + company_rep + \"'\" \n",
    "    andwhere = \"  and city LIKE '\" + city_rep + \"'\" \n",
    "    \n",
    "    print(query + where + andwhere)\n",
    "    \n",
    "    mycursor.execute(query + where + andwhere)\n",
    "    mydb.commit()  \n",
    "    \n",
    "    counter += 1\n",
    "    \n",
    "    \n",
    "print('done : ' + str(len(myresult)) + ' row(s)')"
   ]
  }
 ],
 "metadata": {
  "kernelspec": {
   "display_name": "Python 3 (ipykernel)",
   "language": "python",
   "name": "python3"
  },
  "language_info": {
   "codemirror_mode": {
    "name": "ipython",
    "version": 3
   },
   "file_extension": ".py",
   "mimetype": "text/x-python",
   "name": "python",
   "nbconvert_exporter": "python",
   "pygments_lexer": "ipython3",
   "version": "3.9.12"
  }
 },
 "nbformat": 4,
 "nbformat_minor": 5
}
