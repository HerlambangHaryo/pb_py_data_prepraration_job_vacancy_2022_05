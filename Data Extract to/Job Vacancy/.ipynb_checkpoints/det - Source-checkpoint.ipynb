{
 "cells": [
  {
   "cell_type": "code",
   "execution_count": null,
   "id": "b154570d",
   "metadata": {},
   "outputs": [],
   "source": [
    "# Connect to DB\n",
    "\n",
    "import mysql.connector\n",
    "mydb = mysql.connector.connect(\n",
    "    host=\"localhost\",\n",
    "    user=\"root\",\n",
    "    password=\"\",\n",
    "    database=\"pr_scraping_job_vacancy_indonesia_2022_04\"\n",
    ")\n",
    "\n",
    "mycursor = mydb.cursor()\n",
    "print('connect')\n",
    "\n",
    "entity = 'source'"
   ]
  },
  {
   "cell_type": "code",
   "execution_count": null,
   "id": "aefaf964",
   "metadata": {},
   "outputs": [],
   "source": [
    "# insert new job_vacancies \n",
    "\n",
    "# set query 1\n",
    "select = ' id, site '\n",
    "fromdb = 'jobstreet_raws_v2'\n",
    "where = ' '\n",
    "group = ' ' \n",
    " \n",
    "# query 1\n",
    "mycursor = mydb.cursor()\n",
    "mycursor.execute(\"SELECT \" + select + \" FROM `\" + fromdb + \"` \" + where + group  )\n",
    "myresult = mycursor.fetchall()\n",
    "   \n",
    "# loop query 1\n",
    "for x in myresult:  \n",
    "    idx = str(x[0])\n",
    "    site = x[1]\n",
    "    query = \"SELECT \" + select_v2 + \" FROM `\" + fromdb_v2 + \"` \" + where_v2 + \"'%\" + site + \"%'\"\n",
    "    \n",
    "    print(query)\n",
    "    \n",
    "    mycursor2 = mydb.cursor()\n",
    "    mycursor2.execute(query)\n",
    "    myresult2 = mycursor2.fetchall()\n",
    "    \n",
    "    for y in myresult2:   \n",
    "        idy = str(y[0])\n",
    "         \n",
    "         \n",
    "print('done : ' + str(len(myresult)) + ' row(s)')"
   ]
  }
 ],
 "metadata": {
  "kernelspec": {
   "display_name": "Python 3 (ipykernel)",
   "language": "python",
   "name": "python3"
  },
  "language_info": {
   "codemirror_mode": {
    "name": "ipython",
    "version": 3
   },
   "file_extension": ".py",
   "mimetype": "text/x-python",
   "name": "python",
   "nbconvert_exporter": "python",
   "pygments_lexer": "ipython3",
   "version": "3.9.12"
  }
 },
 "nbformat": 4,
 "nbformat_minor": 5
}
