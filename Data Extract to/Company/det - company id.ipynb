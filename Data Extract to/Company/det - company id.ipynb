{
 "cells": [
  {
   "cell_type": "code",
   "execution_count": 1,
   "id": "63496ac7",
   "metadata": {},
   "outputs": [
    {
     "name": "stdout",
     "output_type": "stream",
     "text": [
      "connect\n",
      "2022-06-13 21:51:51.594011\n"
     ]
    }
   ],
   "source": [
    "# Connect to DB\n",
    "import datetime\n",
    "datenow = datetime.datetime.now()\n",
    "\n",
    "host=\"localhost\"\n",
    "user=\"root\"\n",
    "\n",
    "# host=\"192.168.100.3\"\n",
    "# user=\"rootx\"\n",
    "\n",
    "import mysql.connector\n",
    "mydb = mysql.connector.connect(\n",
    "    host=host,\n",
    "    user=user,\n",
    "    password=\"\",\n",
    "    database=\"pr_scraping_job_vacancy_indonesia_2022_04\"\n",
    ")\n",
    "mycursor = mydb.cursor()\n",
    "print('connect')\n",
    "print(datenow)"
   ]
  },
  {
   "cell_type": "code",
   "execution_count": null,
   "id": "d8a0f66f",
   "metadata": {},
   "outputs": [],
   "source": [
    "# insert new job_vacancies \n",
    "\n",
    "# set query 1\n",
    "select = ' company_id, ' + entity \n",
    "fromdb = 'jobstreet_raws'\n",
    "where = ' where company_id is not null '\n",
    "group = ' group by ' + select\n",
    "orderby = ' Order By company_id  ASC ' \n",
    " \n",
    "# query 1\n",
    "mycursor = mydb.cursor()\n",
    "mycursor.execute(\"SELECT \" + select + \" FROM `\" + fromdb + \"` \" + where + group + orderby )\n",
    "myresult = mycursor.fetchall()\n",
    "  \n",
    "print('Start and Please Wait..')\n",
    "# loop query 1\n",
    "for x in myresult:  \n",
    "    idx = str(x[0])\n",
    "    word = x[1].replace(\"'\", \"\\\\'\") \n",
    "    \n",
    "    print(word)\n",
    "\n",
    "#     query3 = \"INSERT INTO companies (nama, raw_id) VALUES ('\" + word + \"', '\" + idx + \"')\"\n",
    "#     print(query3)\n",
    "#     mycursor.execute(query3)\n",
    "#     mydb.commit()  \n",
    "\n",
    "#     query4 = \"UPDATE jobstreet_raws_rc SET \"+entity+\" = '--extracted--'   \" \n",
    "#     where4 = \"  where id = '\" + idx + \"'\"  \n",
    "#     print(query4 + where4)\n",
    "#     mycursor.execute(query4 + where4)\n",
    "#     mydb.commit()  \n",
    "         \n",
    "print('Done : ' + str(len(myresult)) + ' row(s)')"
   ]
  }
 ],
 "metadata": {
  "kernelspec": {
   "display_name": "Python 3 (ipykernel)",
   "language": "python",
   "name": "python3"
  },
  "language_info": {
   "codemirror_mode": {
    "name": "ipython",
    "version": 3
   },
   "file_extension": ".py",
   "mimetype": "text/x-python",
   "name": "python",
   "nbconvert_exporter": "python",
   "pygments_lexer": "ipython3",
   "version": "3.9.12"
  }
 },
 "nbformat": 4,
 "nbformat_minor": 5
}
