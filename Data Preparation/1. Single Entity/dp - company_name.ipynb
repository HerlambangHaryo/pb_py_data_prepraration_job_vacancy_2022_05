{
 "cells": [
  {
   "cell_type": "code",
   "execution_count": 1,
   "id": "dd9cf6ae",
   "metadata": {},
   "outputs": [
    {
     "name": "stdout",
     "output_type": "stream",
     "text": [
      "connect\n"
     ]
    }
   ],
   "source": [
    "# Connect to DB\n",
    "\n",
    "import mysql.connector\n",
    "mydb = mysql.connector.connect(\n",
    "    host=\"localhost\",\n",
    "    user=\"root\",\n",
    "    password=\"\",\n",
    "    database=\"pr_scraping_job_vacancy_indonesia_2022_04\"\n",
    ")\n",
    "mycursor = mydb.cursor()\n",
    "print('connect')\n",
    "\n",
    "entity = 'company'"
   ]
  },
  {
   "cell_type": "code",
   "execution_count": 11,
   "id": "aa00d396",
   "metadata": {},
   "outputs": [
    {
     "name": "stdout",
     "output_type": "stream",
     "text": [
      "Please start and wait ...\n",
      "done : 20611 row(s)\n"
     ]
    }
   ],
   "source": [
    "# insert new job_vacancies \n",
    "# 2022-06-01\n",
    "\n",
    "# set query 1\n",
    "select = ' id, created_at, ' + entity\n",
    "fromdb = 'jobstreet_raws'\n",
    "where = ' '\n",
    "group = ' ' \n",
    "orderby = ' Order By ' + entity + ' Asc ' \n",
    " \n",
    "# query 1\n",
    "mycursor = mydb.cursor()\n",
    "mycursor.execute(\"SELECT \" + select + \" FROM `\" + fromdb + \"` \" + where + group + orderby  )\n",
    "myresult = mycursor.fetchall()\n",
    "\n",
    "print('Please start and wait ...')\n",
    "# loop query 1\n",
    "for x in myresult:  \n",
    "    idx = str(x[0])\n",
    "    created_at = x[1]  \n",
    "    word_1 = x[2].title()  \n",
    "    word_2 = word_1.replace(\"Pt. \", \"Pt \")  \n",
    "    word_3 = word_2.replace(\"Pt \", \"PT \")   \n",
    "    word_4 = word_3.replace(\"Pt\", \"PT\")   \n",
    "    word_5 = word_4.replace(\"Cv \", \"CV \")  \n",
    "    word_6 = word_5.replace(\"\\u002F \", \"/\")  \n",
    "    word_7 = word_6.replace(\"\\\\'\", \"'\") \n",
    "    word_8 = word_7.replace(\"\\'\", \"'\") \n",
    "    word = word_8.replace(\"'\", \"\\\\'\") \n",
    "#     print(word)\n",
    "      \n",
    "    #update extracted\n",
    "    queryx = \"UPDATE jobstreet_raws_v2 SET \"+entity+\" = '\"+word+\"'   \" \n",
    "    wherex = \"  where id = \" + idx + \" \"  \n",
    "#     print(queryx + wherex)\n",
    "    mycursor.execute(queryx + wherex)\n",
    "    mydb.commit()    \n",
    "         \n",
    "print('done : ' + str(len(myresult)) + ' row(s)')"
   ]
  },
  {
   "cell_type": "code",
   "execution_count": 14,
   "id": "40e411ff",
   "metadata": {},
   "outputs": [
    {
     "name": "stdout",
     "output_type": "stream",
     "text": [
      "Please start and wait ...\n",
      "Macroad \\u002F PT Solusi Sinergi Digital, Tbk //  // Jakarta Raya\n",
      "Macroad \\u002F PT Solusi Sinergi Digital, Tbk //  // Jakarta Raya\n",
      "Macroad \\u002F PT Solusi Sinergi Digital, Tbk //  // Jakarta Raya\n",
      "Macroad \\u002F PT Solusi Sinergi Digital, Tbk //  // Jakarta Raya\n",
      "Macroad \\u002F PT Solusi Sinergi Digital, Tbk //  // Jakarta Raya\n",
      "Macroad \\u002F PT Solusi Sinergi Digital, Tbk //  // Jakarta Raya\n",
      "Macroad \\u002F PT Solusi Sinergi Digital, Tbk //  // Jakarta Raya\n",
      "PT Goldenindo Abra \\u002F Sunny Paint // Jakarta Utara // Jakarta Raya\n",
      "PT Square Gate One \\u002F ESPAY.ID // Alam Sutera // Tangerang\n",
      "PT Square Gate One \\u002F ESPAY.ID //  // Jakarta Barat\n",
      "PT Square Gate One \\u002F ESPAY.ID // Alam Sutera // Tangerang\n",
      "PT Square Gate One \\u002F ESPAY.ID //  // Tangerang\n",
      "PT Square Gate One \\u002F ESPAY.ID // Alam Sutera // Tangerang\n",
      "PT Square Gate One \\u002F ESPAY.ID // Alam Sutera // Tangerang\n",
      "done : 14 row(s)\n"
     ]
    }
   ],
   "source": [
    "# insert new job_vacancies \n",
    "# 2022-06-01\n",
    "\n",
    "# set query 1\n",
    "select = ' id, created_at, ' + entity + ', city, address '\n",
    "fromdb = 'jobstreet_raws'\n",
    "where = ' where company_id is null '\n",
    "group = ' ' \n",
    "orderby = ' Order By ' + entity + ' Asc ' \n",
    " \n",
    "# query 1\n",
    "mycursor = mydb.cursor()\n",
    "mycursor.execute(\"SELECT \" + select + \" FROM `\" + fromdb + \"` \" + where + group + orderby  )\n",
    "myresult = mycursor.fetchall()\n",
    "\n",
    "print('Please start and wait ...')\n",
    "# loop query 1\n",
    "for x in myresult:  \n",
    "    idx = str(x[0])\n",
    "    created_at = x[1]  \n",
    "    word = x[2] \n",
    "    \n",
    "    city = x[3] \n",
    "    address = x[4] \n",
    "    \n",
    "    words = word + \" // \" + address + \" // \" + city  \n",
    "    print(words)\n",
    "       \n",
    "         \n",
    "print('done : ' + str(len(myresult)) + ' row(s)')"
   ]
  }
 ],
 "metadata": {
  "kernelspec": {
   "display_name": "Python 3 (ipykernel)",
   "language": "python",
   "name": "python3"
  },
  "language_info": {
   "codemirror_mode": {
    "name": "ipython",
    "version": 3
   },
   "file_extension": ".py",
   "mimetype": "text/x-python",
   "name": "python",
   "nbconvert_exporter": "python",
   "pygments_lexer": "ipython3",
   "version": "3.9.12"
  }
 },
 "nbformat": 4,
 "nbformat_minor": 5
}
