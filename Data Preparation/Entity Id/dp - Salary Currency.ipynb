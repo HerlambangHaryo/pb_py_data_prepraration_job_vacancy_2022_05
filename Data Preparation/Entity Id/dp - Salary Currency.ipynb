{
 "cells": [
  {
   "cell_type": "code",
   "execution_count": 1,
   "id": "980d4404",
   "metadata": {},
   "outputs": [
    {
     "name": "stdout",
     "output_type": "stream",
     "text": [
      "connect\n"
     ]
    }
   ],
   "source": [
    "# Connect to DB\n",
    "\n",
    "host=\"localhost\"\n",
    "user=\"root\"\n",
    "\n",
    "# host=\"192.168.100.3\"\n",
    "# user=\"rootx\"\n",
    "\n",
    "import mysql.connector\n",
    "mydb = mysql.connector.connect(\n",
    "    host=host,\n",
    "    user=user,\n",
    "    password=\"\",\n",
    "    database=\"pr_scraping_job_vacancy_indonesia_2022_04\"\n",
    ")\n",
    "mycursor = mydb.cursor()\n",
    "print('connect')\n",
    "\n",
    "entity = 'salary_currency'\n",
    "entity_db = 'salary_currencies'\n",
    "\n",
    "# set query 1\n",
    "select = ' id, created_at, ' + entity\n",
    "fromdb = 'jobstreet_raws'\n",
    "where = ' '\n",
    "group = ' ' "
   ]
  },
  {
   "cell_type": "code",
   "execution_count": 6,
   "id": "6d9a93aa",
   "metadata": {},
   "outputs": [
    {
     "name": "stdout",
     "output_type": "stream",
     "text": [
      "Done\n"
     ]
    }
   ],
   "source": [
    "\n",
    "# query 1 \n",
    "mycursor.execute(\"TRUNCATE TABLE `\"+entity_db+\"`  \")  \n",
    "mydb.commit()    \n",
    "print('Done')"
   ]
  },
  {
   "cell_type": "code",
   "execution_count": 7,
   "id": "7e506622",
   "metadata": {},
   "outputs": [
    {
     "name": "stdout",
     "output_type": "stream",
     "text": [
      "We start and please wait ...\n",
      "done : 0 row(s)\n"
     ]
    }
   ],
   "source": [
    "# check distinct \n",
    " \n",
    "# query 1\n",
    "mycursor = mydb.cursor()\n",
    "mycursor.execute(\"SELECT * FROM `\"+entity_db+\"` \")\n",
    "myresult = mycursor.fetchall()\n",
    "\n",
    "print('We start and please wait ...')\n",
    "# loop query 1\n",
    "for x in myresult:  \n",
    "    idx = str(x[0])\n",
    "    word = x[1]   \n",
    "    print(word) \n",
    "     \n",
    "    \n",
    "print('done : ' + str(len(myresult)) + ' row(s)')"
   ]
  },
  {
   "cell_type": "code",
   "execution_count": 8,
   "id": "657d703c",
   "metadata": {},
   "outputs": [
    {
     "name": "stdout",
     "output_type": "stream",
     "text": [
      "We start and please wait ...\n",
      "HKD\n",
      "insert into salary_currencies (nama) values ('HKD')  \n",
      "IDR\n",
      "insert into salary_currencies (nama) values ('IDR')  \n",
      "MYR\n",
      "insert into salary_currencies (nama) values ('MYR')  \n",
      "PHP\n",
      "insert into salary_currencies (nama) values ('PHP')  \n",
      "SGD\n",
      "insert into salary_currencies (nama) values ('SGD')  \n",
      "USD\n",
      "insert into salary_currencies (nama) values ('USD')  \n",
      "done : 6 row(s)\n"
     ]
    }
   ],
   "source": [
    "# check distinct\n",
    "group = ' Group By ' +  entity\n",
    "orderby = ' Order By '+entity+' Asc'\n",
    " \n",
    "# query 1\n",
    "mycursor = mydb.cursor()\n",
    "mycursor.execute(\"SELECT \" + select + \" FROM `\" + fromdb + \"` \" + where + group  )\n",
    "myresult = mycursor.fetchall()\n",
    "\n",
    "print('We start and please wait ...')\n",
    "# loop query 1\n",
    "for x in myresult:  \n",
    "    idx = str(x[0])\n",
    "    created_at = x[1]  \n",
    "    word_1 = x[2]\n",
    "    word = word_1  \n",
    "    print(word) \n",
    "    \n",
    "    queryx = \"insert into \"+entity_db+\" (nama) values ('\"+word+\"')  \"  \n",
    "    print(queryx)\n",
    "    mycursor.execute(queryx)\n",
    "    mydb.commit()    \n",
    "    \n",
    "print('done : ' + str(len(myresult)) + ' row(s)')"
   ]
  },
  {
   "cell_type": "code",
   "execution_count": 11,
   "id": "1cd339e1",
   "metadata": {},
   "outputs": [
    {
     "name": "stdout",
     "output_type": "stream",
     "text": [
      "Please start and wait ...\n",
      "done : 20611 row(s)\n"
     ]
    }
   ],
   "source": [
    "group = ' '\n",
    "\n",
    "# query 1\n",
    "mycursor = mydb.cursor()\n",
    "mycursor.execute(\"SELECT \" + select + \" FROM `\" + fromdb + \"` \" + where + group  )\n",
    "myresult = mycursor.fetchall()\n",
    "  \n",
    "# set query 2\n",
    "select_v2 = ' id, nama '\n",
    "fromdb_v2 = entity_db \n",
    "where_v2 = ' where nama like ' \n",
    "\n",
    "print('Please start and wait ...')\n",
    "# loop query 1\n",
    "for x in myresult:  \n",
    "    idx = str(x[0])\n",
    "    created_at = x[1]  \n",
    "    word = x[2].replace(\"\\\\u002F\", \" / \")    \n",
    "#     print(word)\n",
    "    \n",
    "    query = \"SELECT \" + select_v2 + \" FROM `\" + fromdb_v2 + \"` \" + where_v2 + \"'%\" + word + \"%'\"\n",
    "     \n",
    "    mycursor2 = mydb.cursor()\n",
    "    mycursor2.execute(query)\n",
    "    myresult2 = mycursor2.fetchall()\n",
    "    \n",
    "    for y in myresult2:   \n",
    "        idy = str(y[0])\n",
    "         \n",
    "        queryx = \"UPDATE jobstreet_raws_v2 SET \"+entity+\" = '\"+idy+\"'   \" \n",
    "        wherex = \"  where id = '\" + idx + \"'\"  \n",
    "#         print(queryx + wherex)\n",
    "        mycursor.execute(queryx + wherex)\n",
    "        mydb.commit()    \n",
    "         \n",
    "print('done : ' + str(len(myresult)) + ' row(s)')"
   ]
  },
  {
   "cell_type": "code",
   "execution_count": 2,
   "id": "1be23acc",
   "metadata": {},
   "outputs": [
    {
     "name": "stdout",
     "output_type": "stream",
     "text": [
      "Please start and wait ...\n",
      "1\n",
      "2\n",
      "3\n",
      "4\n",
      "5\n",
      "6\n",
      "done : 6 row(s)\n"
     ]
    }
   ],
   "source": [
    "# set quality control data\n",
    "select = entity\n",
    "fromdb = 'jobstreet_raws_v2'\n",
    "where = ' '\n",
    "group = ' group by ' + entity \n",
    "\n",
    "# query 1\n",
    "mycursor = mydb.cursor()\n",
    "mycursor.execute(\"SELECT \" + select + \" FROM `\" + fromdb + \"` \" + where + group  )\n",
    "myresult = mycursor.fetchall()\n",
    "   \n",
    "\n",
    "print('Please start and wait ...')\n",
    "# loop query 1\n",
    "for x in myresult: \n",
    "    word = x[0]    \n",
    "    print(word) \n",
    "         \n",
    "print('done : ' + str(len(myresult)) + ' row(s)')"
   ]
  }
 ],
 "metadata": {
  "kernelspec": {
   "display_name": "Python 3 (ipykernel)",
   "language": "python",
   "name": "python3"
  },
  "language_info": {
   "codemirror_mode": {
    "name": "ipython",
    "version": 3
   },
   "file_extension": ".py",
   "mimetype": "text/x-python",
   "name": "python",
   "nbconvert_exporter": "python",
   "pygments_lexer": "ipython3",
   "version": "3.9.12"
  }
 },
 "nbformat": 4,
 "nbformat_minor": 5
}
