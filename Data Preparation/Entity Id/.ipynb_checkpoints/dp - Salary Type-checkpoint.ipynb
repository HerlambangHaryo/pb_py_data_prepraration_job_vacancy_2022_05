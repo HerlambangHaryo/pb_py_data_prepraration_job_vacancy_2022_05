{
 "cells": [
  {
   "cell_type": "code",
   "execution_count": 8,
   "metadata": {},
   "outputs": [
    {
     "name": "stdout",
     "output_type": "stream",
     "text": [
      "connect\n"
     ]
    }
   ],
   "source": [
    "# Connect to DB\n",
    "\n",
    "host=\"localhost\"\n",
    "user=\"root\"\n",
    "\n",
    "host=\"192.168.100.3\"\n",
    "user=\"rootx\"\n",
    "\n",
    "import mysql.connector\n",
    "mydb = mysql.connector.connect(\n",
    "    host=host,\n",
    "    user=user,\n",
    "    password=\"\",\n",
    "    database=\"pr_scraping_job_vacancy_indonesia_2022_04\"\n",
    ")\n",
    "mycursor = mydb.cursor()\n",
    "print('connect')\n",
    "\n",
    "entity = 'career_level'\n",
    "\n",
    "# set query 1\n",
    "select = ' id, created_at, ' + entity\n",
    "fromdb = 'jobstreet_raws'\n",
    "where = ' '\n",
    "group = ' ' "
   ]
  },
  {
   "cell_type": "code",
   "execution_count": 6,
   "metadata": {},
   "outputs": [
    {
     "name": "stdout",
     "output_type": "stream",
     "text": [
      "We start and please wait ...\n",
      "CEO / GM / Direktur / Manajer Senior\n",
      "insert into career_levels (nama) values ('CEO / GM / Direktur / Manajer Senior')  \n",
      "Lulusan baru / Pengalaman kerja kurang dari 1 tahun\n",
      "insert into career_levels (nama) values ('Lulusan baru / Pengalaman kerja kurang dari 1 tahun')  \n",
      "Manajer / Asisten Manajer\n",
      "insert into career_levels (nama) values ('Manajer / Asisten Manajer')  \n",
      "Non-Eksekutif\n",
      "insert into career_levels (nama) values ('Non-Eksekutif')  \n",
      "Pegawai (non-manajemen & non-supervisor)\n",
      "insert into career_levels (nama) values ('Pegawai (non-manajemen & non-supervisor)')  \n",
      "Supervisor / Koordinator\n",
      "insert into career_levels (nama) values ('Supervisor / Koordinator')  \n",
      "done : 6 row(s)\n"
     ]
    }
   ],
   "source": [
    "# check distinct\n",
    "group = ' Group By ' +  entity\n",
    " \n",
    "# query 1\n",
    "mycursor = mydb.cursor()\n",
    "mycursor.execute(\"SELECT \" + select + \" FROM `\" + fromdb + \"` \" + where + group  )\n",
    "myresult = mycursor.fetchall()\n",
    "\n",
    "print('We start and please wait ...')\n",
    "# loop query 1\n",
    "for x in myresult:  \n",
    "    idx = str(x[0])\n",
    "    created_at = x[1]  \n",
    "    word_1 = x[2]\n",
    "    word = word_1.replace(\"\\\\u002F\", \" / \")    \n",
    "    print(word) \n",
    "    \n",
    "#     queryx = \"insert into career_levels (nama) values ('\"+word+\"')  \"  \n",
    "#     print(queryx)\n",
    "#     mycursor.execute(queryx)\n",
    "#     mydb.commit()    \n",
    "    \n",
    "print('done : ' + str(len(myresult)) + ' row(s)')"
   ]
  },
  {
   "cell_type": "code",
   "execution_count": null,
   "metadata": {},
   "outputs": [],
   "source": [
    "group = ' '\n",
    "\n",
    "# query 1\n",
    "mycursor = mydb.cursor()\n",
    "mycursor.execute(\"SELECT \" + select + \" FROM `\" + fromdb + \"` \" + where + group  )\n",
    "myresult = mycursor.fetchall()\n",
    "  \n",
    "# set query 2\n",
    "select_v2 = ' id, nama '\n",
    "fromdb_v2 = 'career_levels'\n",
    "where_v2 = ' where nama like ' \n",
    "\n",
    "print('Please start and wait ...')\n",
    "# loop query 1\n",
    "for x in myresult:  \n",
    "    idx = str(x[0])\n",
    "    created_at = x[1]  \n",
    "    word = x[2].replace(\"\\\\u002F\", \" / \")    \n",
    "#     print(word)\n",
    "    \n",
    "    query = \"SELECT \" + select_v2 + \" FROM `\" + fromdb_v2 + \"` \" + where_v2 + \"'%\" + word + \"%'\"\n",
    "     \n",
    "    mycursor2 = mydb.cursor()\n",
    "    mycursor2.execute(query)\n",
    "    myresult2 = mycursor2.fetchall()\n",
    "    \n",
    "    for y in myresult2:   \n",
    "        idy = str(y[0])\n",
    "         \n",
    "        queryx = \"UPDATE jobstreet_raws_v2 SET \"+entity+\" = '\"+idy+\"'   \" \n",
    "        wherex = \"  where id = '\" + idx + \"'\"  \n",
    "#         print(queryx + wherex)\n",
    "        mycursor.execute(queryx + wherex)\n",
    "        mydb.commit()    \n",
    "         \n",
    "print('done : ' + str(len(myresult)) + ' row(s)')"
   ]
  },
  {
   "cell_type": "code",
   "execution_count": 6,
   "metadata": {},
   "outputs": [
    {
     "name": "stdout",
     "output_type": "stream",
     "text": [
      "Please start and wait ...\n",
      "4\n",
      "5\n",
      "CEO\\u002FGM\\u002FDirektur\\u002FManajer Senior\n",
      "Lulusan baru\\u002FPengalaman kerja kurang dari 1 tahun\n",
      "Manajer\\u002FAsisten Manajer\n",
      "Supervisor\\u002FKoordinator\n",
      "done : 6 row(s)\n"
     ]
    }
   ],
   "source": [
    "# set quality control data\n",
    "select = entity\n",
    "fromdb = 'jobstreet_raws_v2'\n",
    "where = ' '\n",
    "group = ' group by ' + entity \n",
    "\n",
    "# query 1\n",
    "mycursor = mydb.cursor()\n",
    "mycursor.execute(\"SELECT \" + select + \" FROM `\" + fromdb + \"` \" + where + group  )\n",
    "myresult = mycursor.fetchall()\n",
    "   \n",
    "\n",
    "print('Please start and wait ...')\n",
    "# loop query 1\n",
    "for x in myresult: \n",
    "    word = x[0]    \n",
    "    print(word) \n",
    "         \n",
    "print('done : ' + str(len(myresult)) + ' row(s)')"
   ]
  }
 ],
 "metadata": {
  "kernelspec": {
   "display_name": "Python 3",
   "language": "python",
   "name": "python3"
  },
  "language_info": {
   "codemirror_mode": {
    "name": "ipython",
    "version": 3
   },
   "file_extension": ".py",
   "mimetype": "text/x-python",
   "name": "python",
   "nbconvert_exporter": "python",
   "pygments_lexer": "ipython3",
   "version": "3.8.5"
  }
 },
 "nbformat": 4,
 "nbformat_minor": 5
}
