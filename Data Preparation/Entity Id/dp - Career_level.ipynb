{
 "cells": [
  {
   "cell_type": "code",
   "execution_count": 1,
   "id": "b92121ac",
   "metadata": {},
   "outputs": [
    {
     "name": "stdout",
     "output_type": "stream",
     "text": [
      "connect\n"
     ]
    }
   ],
   "source": [
    "# Connect to DB\n",
    "\n",
    "host=\"localhost\"\n",
    "user=\"root\"\n",
    "\n",
    "# host=\"192.168.100.3\"\n",
    "# user=\"rootx\"\n",
    "\n",
    "import mysql.connector\n",
    "mydb = mysql.connector.connect(\n",
    "    host=host,\n",
    "    user=user,\n",
    "    password=\"\",\n",
    "    database=\"pr_scraping_job_vacancy_indonesia_2022_04\"\n",
    ")\n",
    "mycursor = mydb.cursor()\n",
    "print('connect')\n",
    "\n",
    "entity = 'career_level'\n",
    "\n",
    "# set query 1\n",
    "select = ' id, created_at, ' + entity\n",
    "fromdb = 'jobstreet_raws'\n",
    "where = ' '\n",
    "group = ' ' "
   ]
  },
  {
   "cell_type": "code",
   "execution_count": 2,
   "id": "95733edf",
   "metadata": {},
   "outputs": [
    {
     "name": "stdout",
     "output_type": "stream",
     "text": [
      "We start and please wait ...\n",
      "Kontrak\n",
      "Magang\n",
      "Paruh Waktu\n",
      "Penuh Waktu\n",
      "Penuh Waktu, Kontrak\n",
      "Penuh Waktu, Magang\n",
      "Temporer\n",
      "done : 7 row(s)\n"
     ]
    }
   ],
   "source": [
    "# check distinct\n",
    "group = ' Group By ' +  entity\n",
    " \n",
    "# query 1\n",
    "mycursor = mydb.cursor()\n",
    "mycursor.execute(\"SELECT \" + select + \" FROM `\" + fromdb + \"` \" + where + group  )\n",
    "myresult = mycursor.fetchall()\n",
    "\n",
    "print('We start and please wait ...')\n",
    "# loop query 1\n",
    "for x in myresult:  \n",
    "    idx = str(x[0])\n",
    "    created_at = x[1]  \n",
    "    word_1 = x[2]\n",
    "    word = word_1.replace(\"\\\\u002F\", \" / \")    \n",
    "    print(word) \n",
    "    \n",
    "#     queryx = \"insert into career_levels (nama) values ('\"+word+\"')  \"  \n",
    "#     print(queryx)\n",
    "#     mycursor.execute(queryx)\n",
    "#     mydb.commit()    \n",
    "    \n",
    "print('done : ' + str(len(myresult)) + ' row(s)')"
   ]
  },
  {
   "cell_type": "code",
   "execution_count": 4,
   "id": "9d2332c6",
   "metadata": {},
   "outputs": [
    {
     "name": "stdout",
     "output_type": "stream",
     "text": [
      "Please start and wait ...\n"
     ]
    },
    {
     "ename": "IndexError",
     "evalue": "tuple index out of range",
     "output_type": "error",
     "traceback": [
      "\u001b[1;31m---------------------------------------------------------------------------\u001b[0m",
      "\u001b[1;31mIndexError\u001b[0m                                Traceback (most recent call last)",
      "Input \u001b[1;32mIn [4]\u001b[0m, in \u001b[0;36m<cell line: 15>\u001b[1;34m()\u001b[0m\n\u001b[0;32m     15\u001b[0m \u001b[38;5;28;01mfor\u001b[39;00m x \u001b[38;5;129;01min\u001b[39;00m myresult:  \n\u001b[0;32m     16\u001b[0m     idx \u001b[38;5;241m=\u001b[39m \u001b[38;5;28mstr\u001b[39m(x[\u001b[38;5;241m0\u001b[39m])\n\u001b[1;32m---> 17\u001b[0m     created_at \u001b[38;5;241m=\u001b[39m \u001b[43mx\u001b[49m\u001b[43m[\u001b[49m\u001b[38;5;241;43m1\u001b[39;49m\u001b[43m]\u001b[49m  \n\u001b[0;32m     18\u001b[0m     word \u001b[38;5;241m=\u001b[39m x[\u001b[38;5;241m2\u001b[39m] \n\u001b[0;32m     19\u001b[0m \u001b[38;5;66;03m#     print(word)\u001b[39;00m\n",
      "\u001b[1;31mIndexError\u001b[0m: tuple index out of range"
     ]
    }
   ],
   "source": [
    "group = ' '\n",
    "\n",
    "# query 1\n",
    "mycursor = mydb.cursor()\n",
    "mycursor.execute(\"SELECT \" + select + \" FROM `\" + fromdb + \"` \" + where + group  )\n",
    "myresult = mycursor.fetchall()\n",
    "  \n",
    "# set query 2\n",
    "select_v2 = ' id, nama '\n",
    "fromdb_v2 = 'career_levels'\n",
    "where_v2 = ' where nama like ' \n",
    "\n",
    "print('Please start and wait ...')\n",
    "# loop query 1\n",
    "for x in myresult:  \n",
    "    idx = str(x[0])\n",
    "    created_at = x[1]  \n",
    "    word = x[2] \n",
    "#     print(word)\n",
    "    \n",
    "    query = \"SELECT \" + select_v2 + \" FROM `\" + fromdb_v2 + \"` \" + where_v2 + \"'%\" + word + \"%'\"\n",
    "     \n",
    "    mycursor2 = mydb.cursor()\n",
    "    mycursor2.execute(query)\n",
    "    myresult2 = mycursor2.fetchall()\n",
    "    \n",
    "    for y in myresult2:   \n",
    "        idy = str(y[0])\n",
    "         \n",
    "        queryx = \"UPDATE jobstreet_raws_v2 SET \"+entity+\" = '\"+idy+\"'   \" \n",
    "        wherex = \"  where id = '\" + idx + \"'\"  \n",
    "#         print(queryx + wherex)\n",
    "        mycursor.execute(queryx + wherex)\n",
    "        mydb.commit()    \n",
    "         \n",
    "print('done : ' + str(len(myresult)) + ' row(s)')"
   ]
  },
  {
   "cell_type": "code",
   "execution_count": 3,
   "id": "107bbc81",
   "metadata": {},
   "outputs": [
    {
     "name": "stdout",
     "output_type": "stream",
     "text": [
      "Please start and wait ...\n",
      "3\n",
      "5\n",
      "6\n",
      "7\n",
      "done : 4 row(s)\n"
     ]
    }
   ],
   "source": [
    "# set quality control data\n",
    "select = entity\n",
    "fromdb = 'jobstreet_raws_v2'\n",
    "where = ' '\n",
    "group = ' group by ' + entity \n",
    "\n",
    "# query 1\n",
    "mycursor = mydb.cursor()\n",
    "mycursor.execute(\"SELECT \" + select + \" FROM `\" + fromdb + \"` \" + where + group  )\n",
    "myresult = mycursor.fetchall()\n",
    "   \n",
    "\n",
    "print('Please start and wait ...')\n",
    "# loop query 1\n",
    "for x in myresult: \n",
    "    word = x[0]    \n",
    "    print(word) \n",
    "         \n",
    "print('done : ' + str(len(myresult)) + ' row(s)')"
   ]
  }
 ],
 "metadata": {
  "kernelspec": {
   "display_name": "Python 3 (ipykernel)",
   "language": "python",
   "name": "python3"
  },
  "language_info": {
   "codemirror_mode": {
    "name": "ipython",
    "version": 3
   },
   "file_extension": ".py",
   "mimetype": "text/x-python",
   "name": "python",
   "nbconvert_exporter": "python",
   "pygments_lexer": "ipython3",
   "version": "3.9.12"
  }
 },
 "nbformat": 4,
 "nbformat_minor": 5
}
