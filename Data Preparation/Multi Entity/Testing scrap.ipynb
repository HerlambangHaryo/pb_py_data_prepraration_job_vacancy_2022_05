{
 "cells": [
  {
   "cell_type": "code",
   "execution_count": null,
   "id": "25532f29",
   "metadata": {},
   "outputs": [],
   "source": [
    "# Connect to DB\n",
    "\n",
    "host=\"localhost\"\n",
    "user=\"root\"\n",
    "\n",
    "# host=\"192.168.100.3\"\n",
    "# user=\"rootx\"\n",
    "\n",
    "import mysql.connector\n",
    "mydb = mysql.connector.connect(\n",
    "    host=host,\n",
    "    user=user,\n",
    "    password=\"\",\n",
    "    database=\"pr_scraping_job_vacancy_indonesia_2022_04\"\n",
    ")\n",
    "mycursor = mydb.cursor()\n",
    "print('connect')\n",
    "\n",
    "\n",
    "# set query 1\n",
    "select = ' * '\n",
    "fromdb = 'jobstreet_raws_v2'\n",
    "where = ' '\n",
    "group = ' ' "
   ]
  },
  {
   "cell_type": "code",
   "execution_count": null,
   "id": "10362a06",
   "metadata": {},
   "outputs": [],
   "source": [
    "# repairing tittle\n",
    "\n",
    "where = '  '\n",
    "orderby = ' order by nama ASC '\n",
    " \n",
    "# query 1\n",
    "mycursor = mydb.cursor()\n",
    "mycursor.execute(\"SELECT \" + select + \" FROM `\" + fromdb + \"` \" + where + orderby )\n",
    "myresult = mycursor.fetchall()\n",
    "\n",
    "print('We start and please wait ...')\n",
    "# loop query 1\n",
    "for x in myresult:  \n",
    "    idx = str(x[0]) \n",
    "    word = x[1]  \n",
    "    \n",
    "    print(word)   \n",
    "    \n",
    "    queryy = \"Select nama From titles Where nama like '\"+word+\"' \"\n",
    "    print(queryy)\n",
    "    mycursor.execute(queryy)\n",
    "    myresultc = mycursor.fetchall()\n",
    "\n",
    "    queryy_len = len(myresultc)\n",
    "    print(queryy_len)\n",
    "\n",
    "    if(queryy_len == 0):        \n",
    "        queryx = \"INSERT INTO titles (nama) VALUES ('\"+word+\"')\"\n",
    "        mycursor.execute(queryx)\n",
    "        mydb.commit()   \n",
    "    \n",
    "    \n",
    "print('done : ' + str(len(myresult)) + ' row(s)')"
   ]
  }
 ],
 "metadata": {
  "kernelspec": {
   "display_name": "Python 3 (ipykernel)",
   "language": "python",
   "name": "python3"
  },
  "language_info": {
   "codemirror_mode": {
    "name": "ipython",
    "version": 3
   },
   "file_extension": ".py",
   "mimetype": "text/x-python",
   "name": "python",
   "nbconvert_exporter": "python",
   "pygments_lexer": "ipython3",
   "version": "3.9.12"
  }
 },
 "nbformat": 4,
 "nbformat_minor": 5
}
