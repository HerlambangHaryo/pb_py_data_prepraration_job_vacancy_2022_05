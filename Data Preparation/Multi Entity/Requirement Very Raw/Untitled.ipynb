{
 "cells": [
  {
   "cell_type": "code",
   "execution_count": null,
   "id": "e315fa47",
   "metadata": {},
   "outputs": [],
   "source": [
    "# Connect to DB\n",
    "import datetime\n",
    "datenow = datetime.datetime.now()\n",
    "\n",
    "host=\"localhost\"\n",
    "user=\"root\"\n",
    "\n",
    "# host=\"192.168.100.3\"\n",
    "# user=\"rootx\"\n",
    "\n",
    "import mysql.connector\n",
    "mydb = mysql.connector.connect(\n",
    "    host=host,\n",
    "    user=user,\n",
    "    password=\"\",\n",
    "    database=\"pr_scraping_job_vacancy_indonesia_2022_04\"\n",
    ")\n",
    "mycursor = mydb.cursor()\n",
    "print('connect')\n",
    "print(datenow)"
   ]
  },
  {
   "cell_type": "code",
   "execution_count": null,
   "id": "ffca315b",
   "metadata": {},
   "outputs": [],
   "source": [
    "# set query 1\n",
    "select = ' id, nama '\n",
    "fromdb = 'requirement' \n",
    "where = '  '\n",
    "orderby = '  order by requirement ASC '\n",
    "\n",
    "query_1 = \"SELECT \" + select + \" FROM `\" + fromdb + \"` \" + where + orderby \n",
    "print(query_1)\n",
    "# query 1\n",
    "mycursor = mydb.cursor()\n",
    "mycursor.execute(query_1)\n",
    "myresult = mycursor.fetchall()\n",
    "\n",
    "print('We start and please wait ...')\n",
    "\n",
    "# loop query 1\n",
    "for x in myresult:  \n",
    "    id_benefit = str(x[0]) \n",
    "    nama = x[1]   \n",
    "    \n",
    "    print(nama)    \n",
    "    \n",
    "    queryy = \"Select id, benefit From jobstreet_raws_v2 Where benefit like '%\"+nama+\"%'  \"\n",
    "    print(queryy)\n",
    "    mycursor.execute(queryy)\n",
    "    myresultc = mycursor.fetchall()\n",
    "\n",
    "    for y in myresultc:   \n",
    "        job_vacancy_id = str(y[0]) \n",
    "        word = y[1]   \n",
    "\n",
    "        queryy = \"UPDATE jobstreet_raws_v2 SET benefit = REPLACE(requirement,'\"+nama+\"', '-idben-' )  where id = '\"+job_vacancy_id+\"' \"\n",
    "        print(queryy)\n",
    "        mycursor.execute(queryy)\n",
    "        mydb.commit()   \n",
    "         \n",
    "    \n",
    "print('done : ' + str(len(myresult)) + ' row(s)')\n",
    "print('done : ' + str(len(myresultc)) + ' row(s)')"
   ]
  }
 ],
 "metadata": {
  "kernelspec": {
   "display_name": "Python 3 (ipykernel)",
   "language": "python",
   "name": "python3"
  },
  "language_info": {
   "codemirror_mode": {
    "name": "ipython",
    "version": 3
   },
   "file_extension": ".py",
   "mimetype": "text/x-python",
   "name": "python",
   "nbconvert_exporter": "python",
   "pygments_lexer": "ipython3",
   "version": "3.9.12"
  }
 },
 "nbformat": 4,
 "nbformat_minor": 5
}
