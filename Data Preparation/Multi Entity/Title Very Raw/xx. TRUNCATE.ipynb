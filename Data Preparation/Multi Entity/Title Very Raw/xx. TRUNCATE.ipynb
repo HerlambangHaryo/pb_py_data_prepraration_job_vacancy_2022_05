{
 "cells": [
  {
   "cell_type": "code",
   "execution_count": 1,
   "id": "49c9671d",
   "metadata": {},
   "outputs": [
    {
     "name": "stdout",
     "output_type": "stream",
     "text": [
      "connect\n"
     ]
    }
   ],
   "source": [
    "# Connect to DB\n",
    "\n",
    "host=\"localhost\"\n",
    "user=\"root\"\n",
    "\n",
    "# host=\"192.168.100.3\"\n",
    "# user=\"rootx\"\n",
    "\n",
    "import mysql.connector\n",
    "mydb = mysql.connector.connect(\n",
    "    host=host,\n",
    "    user=user,\n",
    "    password=\"\",\n",
    "    database=\"pr_scraping_job_vacancy_indonesia_2022_04\"\n",
    ")\n",
    "mycursor = mydb.cursor()\n",
    "print('connect')\n",
    "\n"
   ]
  },
  {
   "cell_type": "code",
   "execution_count": null,
   "id": "3808f64e",
   "metadata": {},
   "outputs": [
    {
     "name": "stdout",
     "output_type": "stream",
     "text": [
      "TRUNCATE TABLE `title_very_raws_bu`\n",
      "Done\n",
      "TRUNCATE TABLE `title_very_raws`\n"
     ]
    }
   ],
   "source": [
    "    \n",
    "queryx = \"TRUNCATE TABLE `title_very_raws_bu`\"\n",
    "print(queryx)\n",
    "mycursor.execute(queryx)\n",
    "mydb.commit()   \n",
    "print('Done')\n",
    "\n",
    "    \n",
    "queryx = \"TRUNCATE TABLE `title_very_raws`\"\n",
    "print(queryx)\n",
    "mycursor.execute(queryx)\n",
    "mydb.commit()   \n",
    "print('Done')"
   ]
  },
  {
   "cell_type": "code",
   "execution_count": null,
   "id": "0e49cb8f",
   "metadata": {},
   "outputs": [],
   "source": [
    "\n",
    "queryx = \"TRUNCATE TABLE `title_very_raws`\"\n",
    "print(queryx)\n",
    "mycursor.execute(queryx)\n",
    "mydb.commit()   \n",
    "print('Done')"
   ]
  }
 ],
 "metadata": {
  "kernelspec": {
   "display_name": "Python 3 (ipykernel)",
   "language": "python",
   "name": "python3"
  },
  "language_info": {
   "codemirror_mode": {
    "name": "ipython",
    "version": 3
   },
   "file_extension": ".py",
   "mimetype": "text/x-python",
   "name": "python",
   "nbconvert_exporter": "python",
   "pygments_lexer": "ipython3",
   "version": "3.9.12"
  }
 },
 "nbformat": 4,
 "nbformat_minor": 5
}
