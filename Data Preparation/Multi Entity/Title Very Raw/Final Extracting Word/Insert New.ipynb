{
 "cells": [
  {
   "cell_type": "code",
   "execution_count": 1,
   "id": "7b259b3f",
   "metadata": {},
   "outputs": [
    {
     "name": "stdout",
     "output_type": "stream",
     "text": [
      "connect\n"
     ]
    }
   ],
   "source": [
    "# Connect to DB\n",
    "\n",
    "host=\"localhost\"\n",
    "user=\"root\"\n",
    "\n",
    "# host=\"192.168.100.3\"\n",
    "# user=\"rootx\"\n",
    "\n",
    "import mysql.connector\n",
    "mydb = mysql.connector.connect(\n",
    "    host=host,\n",
    "    user=user,\n",
    "    password=\"\",\n",
    "    database=\"pr_scraping_job_vacancy_indonesia_2022_04\"\n",
    ")\n",
    "mycursor = mydb.cursor()\n",
    "print('connect')\n",
    "\n"
   ]
  },
  {
   "cell_type": "code",
   "execution_count": 3,
   "id": "21e33fa9",
   "metadata": {},
   "outputs": [
    {
     "name": "stdout",
     "output_type": "stream",
     "text": [
      "INSERT INTO titles (nama) VALUES ('Credit Marketing Officer' )\n",
      "Credit Marketing Officer\n"
     ]
    }
   ],
   "source": [
    "word = 'Credit Marketing Officer'\n",
    "queryx = \"INSERT INTO titles (nama) VALUES ('\"+word+\"' )\"\n",
    "print(queryx)\n",
    "mycursor.execute(queryx)\n",
    "mydb.commit()   \n",
    "\n",
    "print(word)"
   ]
  },
  {
   "cell_type": "code",
   "execution_count": 2,
   "id": "c84bb4a6",
   "metadata": {},
   "outputs": [
    {
     "name": "stdout",
     "output_type": "stream",
     "text": [
      "INSERT INTO titles (nama) VALUES ('General Manager' )\n",
      "General Manager\n"
     ]
    }
   ],
   "source": [
    "word = 'General Manager'\n",
    "queryx = \"INSERT INTO titles (nama) VALUES ('\"+word+\"' )\"\n",
    "print(queryx)\n",
    "mycursor.execute(queryx)\n",
    "mydb.commit()   \n",
    "\n",
    "print(word)"
   ]
  }
 ],
 "metadata": {
  "kernelspec": {
   "display_name": "Python 3 (ipykernel)",
   "language": "python",
   "name": "python3"
  },
  "language_info": {
   "codemirror_mode": {
    "name": "ipython",
    "version": 3
   },
   "file_extension": ".py",
   "mimetype": "text/x-python",
   "name": "python",
   "nbconvert_exporter": "python",
   "pygments_lexer": "ipython3",
   "version": "3.9.12"
  }
 },
 "nbformat": 4,
 "nbformat_minor": 5
}
