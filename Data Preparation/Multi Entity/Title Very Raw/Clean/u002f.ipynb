{
 "cells": [
  {
   "cell_type": "code",
   "execution_count": 4,
   "id": "705ae124",
   "metadata": {},
   "outputs": [
    {
     "name": "stdout",
     "output_type": "stream",
     "text": [
      "connect\n"
     ]
    }
   ],
   "source": [
    "# Connect to DB\n",
    "\n",
    "host=\"localhost\"\n",
    "user=\"root\"\n",
    "\n",
    "# host=\"192.168.100.3\"\n",
    "# user=\"rootx\"\n",
    "\n",
    "import mysql.connector\n",
    "mydb = mysql.connector.connect(\n",
    "    host=host,\n",
    "    user=user,\n",
    "    password=\"\",\n",
    "    database=\"pr_scraping_job_vacancy_indonesia_2022_04\"\n",
    ")\n",
    "mycursor = mydb.cursor()\n",
    "print('connect')\n",
    "\n"
   ]
  },
  {
   "cell_type": "code",
   "execution_count": 5,
   "id": "4fff774a",
   "metadata": {},
   "outputs": [
    {
     "name": "stdout",
     "output_type": "stream",
     "text": [
      "We start and please wait ...\n",
      "done : 400 row(s)\n"
     ]
    }
   ],
   "source": [
    "check_word = 'u002f'\n",
    "    \n",
    "# set query 1\n",
    "select = ' id, nama '\n",
    "fromdb = 'title_very_raws' \n",
    "where = \" where nama like '%\"+check_word+\"%'   \"\n",
    "orderby = '  order by nama ASC '\n",
    " \n",
    "# query 1\n",
    "mycursor = mydb.cursor()\n",
    "mycursor.execute(\"SELECT \" + select + \" FROM `\" + fromdb + \"` \" + where + orderby )\n",
    "myresult = mycursor.fetchall()\n",
    "\n",
    "print('We start and please wait ...')\n",
    "# loop query 1\n",
    "for x in myresult:  \n",
    "    \n",
    "    idx = str(x[0]) \n",
    "    word = x[1]  \n",
    "     \n",
    "    if(check_word in word): \n",
    "        word = word.replace(check_word, \"\")\n",
    "        word = word.strip()\n",
    "        queryx = \"UPDATE title_very_raws  SET nama = REPLACE(nama, '\"+check_word+\"', ' / ')  where id = '\"+idx+\"'    \" \n",
    "        mycursor.execute(queryx)\n",
    "        mydb.commit()   \n",
    "         \n",
    "    \n",
    "    \n",
    "print('done : ' + str(len(myresult)) + ' row(s)')"
   ]
  }
 ],
 "metadata": {
  "kernelspec": {
   "display_name": "Python 3 (ipykernel)",
   "language": "python",
   "name": "python3"
  },
  "language_info": {
   "codemirror_mode": {
    "name": "ipython",
    "version": 3
   },
   "file_extension": ".py",
   "mimetype": "text/x-python",
   "name": "python",
   "nbconvert_exporter": "python",
   "pygments_lexer": "ipython3",
   "version": "3.9.12"
  }
 },
 "nbformat": 4,
 "nbformat_minor": 5
}
