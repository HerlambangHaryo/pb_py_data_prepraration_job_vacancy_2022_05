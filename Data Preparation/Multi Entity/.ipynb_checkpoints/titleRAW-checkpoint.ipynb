{
 "cells": [
  {
   "cell_type": "code",
   "execution_count": null,
   "id": "2dc02ad5",
   "metadata": {},
   "outputs": [],
   "source": [
    "# Connect to DB\n",
    "\n",
    "host=\"localhost\"\n",
    "user=\"root\"\n",
    "\n",
    "# host=\"192.168.100.3\"\n",
    "# user=\"rootx\"\n",
    "\n",
    "import mysql.connector\n",
    "mydb = mysql.connector.connect(\n",
    "    host=host,\n",
    "    user=user,\n",
    "    password=\"\",\n",
    "    database=\"pr_scraping_job_vacancy_indonesia_2022_04\"\n",
    ")\n",
    "mycursor = mydb.cursor()\n",
    "print('connect')\n",
    "\n",
    "entity = 'title'\n",
    "\n",
    "# set query 1\n",
    "select = ' id, created_at, ' + entity\n",
    "fromdb = 'title_raw'\n",
    "where = ' '\n",
    "group = ' ' "
   ]
  }
 ],
 "metadata": {
  "kernelspec": {
   "display_name": "Python 3 (ipykernel)",
   "language": "python",
   "name": "python3"
  },
  "language_info": {
   "codemirror_mode": {
    "name": "ipython",
    "version": 3
   },
   "file_extension": ".py",
   "mimetype": "text/x-python",
   "name": "python",
   "nbconvert_exporter": "python",
   "pygments_lexer": "ipython3",
   "version": "3.9.12"
  }
 },
 "nbformat": 4,
 "nbformat_minor": 5
}
