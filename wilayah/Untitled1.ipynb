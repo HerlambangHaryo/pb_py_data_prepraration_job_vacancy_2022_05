{
 "cells": [
  {
   "cell_type": "code",
   "execution_count": 9,
   "id": "90621083",
   "metadata": {},
   "outputs": [
    {
     "name": "stdout",
     "output_type": "stream",
     "text": [
      "connect\n"
     ]
    }
   ],
   "source": [
    "# Connect DB\n",
    "\n",
    "import mysql.connector\n",
    "mydb = mysql.connector.connect(\n",
    "    host=\"localhost\",\n",
    "    user=\"root\",\n",
    "    password=\"\",\n",
    "    database=\"pr_scraping_job_vacancy_indonesia_2022_04\"\n",
    ")\n",
    "\n",
    "mycursor = mydb.cursor()\n",
    "\n",
    "print('connect')"
   ]
  },
  {
   "cell_type": "code",
   "execution_count": 8,
   "id": "89cf12dd",
   "metadata": {},
   "outputs": [
    {
     "ename": "NameError",
     "evalue": "name 'mycursor' is not defined",
     "output_type": "error",
     "traceback": [
      "\u001b[1;31m---------------------------------------------------------------------------\u001b[0m",
      "\u001b[1;31mNameError\u001b[0m                                 Traceback (most recent call last)",
      "Input \u001b[1;32mIn [8]\u001b[0m, in \u001b[0;36m<cell line: 4>\u001b[1;34m()\u001b[0m\n\u001b[0;32m      1\u001b[0m query \u001b[38;5;241m=\u001b[39m \u001b[38;5;124m\"\u001b[39m\u001b[38;5;124mUPDATE kotas SET status = \u001b[39m\u001b[38;5;124m'\u001b[39m\u001b[38;5;124mKabupaten\u001b[39m\u001b[38;5;124m'\u001b[39m\u001b[38;5;124m, singkatan = \u001b[39m\u001b[38;5;124m'\u001b[39m\u001b[38;5;124mKab.\u001b[39m\u001b[38;5;124m'\u001b[39m\u001b[38;5;124m   \u001b[39m\u001b[38;5;124m\"\u001b[39m \n\u001b[0;32m      2\u001b[0m where \u001b[38;5;241m=\u001b[39m \u001b[38;5;124m'\u001b[39m\u001b[38;5;124m where SUBSTR(nama , 1, 4) like \u001b[39m\u001b[38;5;124m\"\u001b[39m\u001b[38;5;124mKab.\u001b[39m\u001b[38;5;124m\"\u001b[39m\u001b[38;5;124m  \u001b[39m\u001b[38;5;124m'\u001b[39m\n\u001b[1;32m----> 4\u001b[0m \u001b[43mmycursor\u001b[49m\u001b[38;5;241m.\u001b[39mexecute(query \u001b[38;5;241m+\u001b[39m where )\n\u001b[0;32m      5\u001b[0m mydb\u001b[38;5;241m.\u001b[39mcommit()  \n\u001b[0;32m      7\u001b[0m \u001b[38;5;28mprint\u001b[39m(\u001b[38;5;124m'\u001b[39m\u001b[38;5;124mdone\u001b[39m\u001b[38;5;124m'\u001b[39m)\n",
      "\u001b[1;31mNameError\u001b[0m: name 'mycursor' is not defined"
     ]
    }
   ],
   "source": [
    "query = \"UPDATE kotas SET status = 'Kabupaten', singkatan = 'Kab.'   \" \n",
    "where = ' where SUBSTR(nama , 1, 4) like \"Kab.\"  '\n",
    "\n",
    "mycursor.execute(query + where )\n",
    "mydb.commit()  \n",
    "\n",
    "print('done')"
   ]
  },
  {
   "cell_type": "code",
   "execution_count": null,
   "id": "923d6e29",
   "metadata": {},
   "outputs": [],
   "source": [
    "query = \"UPDATE kotas SET status = 'kota', singkatan = 'Kota'   \" \n",
    "where = ' where SUBSTR(nama , 1, 4) like \"Kota\"  '\n",
    "\n",
    "mycursor.execute(query + where )\n",
    "mydb.commit()  \n",
    "\n",
    "print('done')"
   ]
  },
  {
   "cell_type": "code",
   "execution_count": null,
   "id": "b9d36a53",
   "metadata": {},
   "outputs": [],
   "source": [
    "query = \"UPDATE kotas SET nama = REPLACE(nama, 'Kota', '')   \" \n",
    "where = ' where SUBSTR(nama , 1, 4) like \"Kota\"  '\n",
    "\n",
    "mycursor.execute(query + where )\n",
    "mydb.commit()  \n",
    "\n",
    "print('done')\n",
    "\n",
    "query = \"UPDATE kotas SET nama = REPLACE(nama, 'Kab.', '')   \" \n",
    "where = ' where SUBSTR(nama , 1, 4) like \"Kab.\"  '\n",
    "\n",
    "mycursor.execute(query + where )\n",
    "mydb.commit()  \n",
    "\n",
    "print('done')"
   ]
  },
  {
   "cell_type": "code",
   "execution_count": 10,
   "id": "915b758a",
   "metadata": {},
   "outputs": [
    {
     "name": "stdout",
     "output_type": "stream",
     "text": [
      "done\n"
     ]
    }
   ],
   "source": [
    "\n",
    "query = \"UPDATE kotas SET nama = TRIM(nama)   \"  \n",
    "\n",
    "mycursor.execute(query )\n",
    "mydb.commit()  \n",
    "\n",
    "print('done')"
   ]
  }
 ],
 "metadata": {
  "kernelspec": {
   "display_name": "Python 3 (ipykernel)",
   "language": "python",
   "name": "python3"
  },
  "language_info": {
   "codemirror_mode": {
    "name": "ipython",
    "version": 3
   },
   "file_extension": ".py",
   "mimetype": "text/x-python",
   "name": "python",
   "nbconvert_exporter": "python",
   "pygments_lexer": "ipython3",
   "version": "3.9.12"
  }
 },
 "nbformat": 4,
 "nbformat_minor": 5
}
