{
 "cells": [
  {
   "cell_type": "code",
   "execution_count": null,
   "id": "1ed7bc85",
   "metadata": {},
   "outputs": [],
   "source": [
    "# Connect DB\n",
    "\n",
    "import mysql.connector\n",
    "mydb = mysql.connector.connect(\n",
    "    host=\"localhost\",\n",
    "    user=\"root\",\n",
    "    password=\"\",\n",
    "    database=\"pr_scraping_job_vacancy_indonesia_2022_04\"\n",
    ")"
   ]
  },
  {
   "cell_type": "code",
   "execution_count": null,
   "id": "0e614002",
   "metadata": {},
   "outputs": [],
   "source": [
    "# adjust kotas status\n",
    "\n",
    "select = ' SUBSTR(nama , 0, 3)  '\n",
    "fromdb = 'kotas'\n",
    "where = '   '\n",
    "group = '  '  \n",
    " \n",
    "mycursor = mydb.cursor()\n",
    "mycursor.execute(\"SELECT \" + select + \" FROM `\" + fromdb + \"` \" + where + group  )\n",
    "myresult = mycursor.fetchall()\n",
    "\n",
    "for x in myresult:  \n",
    "    company = x[0]    \n",
    "    print(company)\n",
    "    \n",
    "#     company_rep = company.replace(\"'\", \"\\\\'\")\n",
    "#     city_rep = city.replace(\"'\", \"\\\\'\")\n",
    "    \n",
    "#     query = \"UPDATE jobstreet_raws SET company_id = '\" + str(counter)+\"'   \" \n",
    "#     where = \"  where company LIKE '\" + company_rep + \"'\" \n",
    "#     andwhere = \"  and city LIKE '\" + city_rep + \"'\" \n",
    "    \n",
    "#     print(query + where + andwhere)\n",
    "    \n",
    "#     mycursor.execute(query + where + andwhere)\n",
    "#     mydb.commit()  \n",
    "    \n",
    "#     counter += 1\n",
    "    \n",
    "    \n",
    "print('done : ' + str(len(myresult)) + ' row(s)')"
   ]
  }
 ],
 "metadata": {
  "kernelspec": {
   "display_name": "Python 3 (ipykernel)",
   "language": "python",
   "name": "python3"
  },
  "language_info": {
   "codemirror_mode": {
    "name": "ipython",
    "version": 3
   },
   "file_extension": ".py",
   "mimetype": "text/x-python",
   "name": "python",
   "nbconvert_exporter": "python",
   "pygments_lexer": "ipython3",
   "version": "3.9.12"
  }
 },
 "nbformat": 4,
 "nbformat_minor": 5
}
