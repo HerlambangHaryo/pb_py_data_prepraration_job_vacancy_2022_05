{
 "cells": [
  {
   "cell_type": "code",
   "execution_count": 11,
   "id": "88ed111c",
   "metadata": {},
   "outputs": [
    {
     "name": "stdout",
     "output_type": "stream",
     "text": [
      "connect\n"
     ]
    }
   ],
   "source": [
    "# Connect DB\n",
    "\n",
    "import mysql.connector\n",
    "mydb = mysql.connector.connect(\n",
    "    host=\"localhost\",\n",
    "    user=\"root\",\n",
    "    password=\"\",\n",
    "    database=\"pr_scraping_job_vacancy_indonesia_2022_04\"\n",
    ")\n",
    "\n",
    "mycursor = mydb.cursor()\n",
    "\n",
    "print('connect')"
   ]
  },
  {
   "cell_type": "code",
   "execution_count": 12,
   "id": "975c4a01",
   "metadata": {},
   "outputs": [
    {
     "name": "stdout",
     "output_type": "stream",
     "text": [
      "SELECT  id, nama  FROM `sources`  where nama like '%jobstreet.co.id%'\n",
      "1 jobstreet.co.id\n",
      "done : 1 row(s)\n"
     ]
    }
   ],
   "source": [
    "# insert new job_vacancies \n",
    "\n",
    "# set query 1\n",
    "select = ' site '\n",
    "fromdb = 'jobstreet_raws_v2'\n",
    "where = ' '\n",
    "group = ' ' \n",
    " \n",
    "# query 1\n",
    "mycursor = mydb.cursor()\n",
    "mycursor.execute(\"SELECT \" + select + \" FROM `\" + fromdb + \"` \" + where + group  )\n",
    "myresult = mycursor.fetchall()\n",
    "  \n",
    "# set query 2\n",
    "select_v2 = ' id, nama '\n",
    "fromdb_v2 = 'sources'\n",
    "where_v2 = ' where nama like ' \n",
    "\n",
    "# loop query 1\n",
    "for x in myresult:  \n",
    "    site = x[0]\n",
    "    query = \"SELECT \" + select_v2 + \" FROM `\" + fromdb_v2 + \"` \" + where_v2 + \"'%\" + site + \"%'\"\n",
    "    \n",
    "    print(query)\n",
    "    \n",
    "    mycursor2 = mydb.cursor()\n",
    "    mycursor2.execute(query)\n",
    "    myresult2 = mycursor2.fetchall()\n",
    "    \n",
    "    for y in myresult2:   \n",
    "        \n",
    "            query3 = \"UPDATE jobstreet_raws_rc SET kota_id = '\" + ids + \"'   \" \n",
    "            where3 = \"  where city LIKE '\" + city + \"'\"  \n",
    "            mycursor.execute(query3 + where3)\n",
    "            mydb.commit()  \n",
    "        \n",
    "        \n",
    "        \n",
    "        if len(myresult2) == 1:\n",
    "            ids = str(y[0])\n",
    "            words = ids + \" \" + y[1]\n",
    "            print(words)\n",
    "            \n",
    "#             query3 = \"UPDATE jobstreet_raws_rc SET kota_id = '\" + ids + \"'   \" \n",
    "#             where3 = \"  where city LIKE '\" + city + \"'\"  \n",
    "#             mycursor.execute(query3 + where3)\n",
    "#             mydb.commit()  \n",
    "    \n",
    "     \n",
    "print('done : ' + str(len(myresult)) + ' row(s)')"
   ]
  }
 ],
 "metadata": {
  "kernelspec": {
   "display_name": "Python 3 (ipykernel)",
   "language": "python",
   "name": "python3"
  },
  "language_info": {
   "codemirror_mode": {
    "name": "ipython",
    "version": 3
   },
   "file_extension": ".py",
   "mimetype": "text/x-python",
   "name": "python",
   "nbconvert_exporter": "python",
   "pygments_lexer": "ipython3",
   "version": "3.9.12"
  }
 },
 "nbformat": 4,
 "nbformat_minor": 5
}
